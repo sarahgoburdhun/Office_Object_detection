{
 "cells": [
  {
   "cell_type": "code",
   "execution_count": null,
   "id": "c4598861",
   "metadata": {},
   "outputs": [],
   "source": [
    "from ultralytics import  YOLO\n"
   ]
  },
  {
   "cell_type": "code",
   "execution_count": 2,
   "id": "deba6cc8",
   "metadata": {},
   "outputs": [],
   "source": [
    "model = YOLO(\"../models/yolo11n.pt\")"
   ]
  },
  {
   "cell_type": "code",
   "execution_count": null,
   "id": "59fae517",
   "metadata": {},
   "outputs": [],
   "source": [
    "config_file = 'D:/Documents/Projects/Python/AIR/course-work-1/Office_Object_detection/config/config.yaml'\n",
    "\n",
    "results = model.train(data=config_file, epochs=60, device=0, imgsz=640)"
   ]
  }
 ],
 "metadata": {
  "kernelspec": {
   "display_name": ".venv",
   "language": "python",
   "name": "python3"
  },
  "language_info": {
   "codemirror_mode": {
    "name": "ipython",
    "version": 3
   },
   "file_extension": ".py",
   "mimetype": "text/x-python",
   "name": "python",
   "nbconvert_exporter": "python",
   "pygments_lexer": "ipython3",
   "version": "3.13.3"
  }
 },
 "nbformat": 4,
 "nbformat_minor": 5
}
